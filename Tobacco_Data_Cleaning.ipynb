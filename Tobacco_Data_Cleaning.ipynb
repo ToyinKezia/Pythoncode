{
  "nbformat": 4,
  "nbformat_minor": 0,
  "metadata": {
    "colab": {
      "provenance": [],
      "authorship_tag": "ABX9TyNht2KSIAgB2i/sqLEr34bA",
      "include_colab_link": true
    },
    "kernelspec": {
      "name": "python3",
      "display_name": "Python 3"
    },
    "language_info": {
      "name": "python"
    }
  },
  "cells": [
    {
      "cell_type": "markdown",
      "metadata": {
        "id": "view-in-github",
        "colab_type": "text"
      },
      "source": [
        "<a href=\"https://colab.research.google.com/github/ToyinKezia/myworkspeaksforitself/blob/main/Tobacco_Data_Cleaning.ipynb\" target=\"_parent\"><img src=\"https://colab.research.google.com/assets/colab-badge.svg\" alt=\"Open In Colab\"/></a>"
      ]
    },
    {
      "cell_type": "code",
      "execution_count": null,
      "metadata": {
        "id": "qyd07PWpgVVI"
      },
      "outputs": [],
      "source": [
        "import pandas as pd\n",
        "first_import = pd.read_csv('https://query.data.world/s/jkvpif26ygndqnigatokfgkdf2gl7j?dws=00000')\n",
        "list(first_import.columns)\n",
        "second_import = first_import.drop(columns=first_import.iloc[:, 11:13]) #I dropped this range of column\n",
        "third_import = second_import.drop(columns=second_import.iloc[:, 23:27]) #I dropped this range of column\n",
        "third_import.columns\n",
        "fourth_import = third_import.rename(columns={\"LocationAbbr\":\"ID\"}) #I renamed this column head as \"ID\"\n",
        "fifth_import= fourth_import.rename(columns={\"LocationDesc\":\"State\"}) # I renamed this column to \"State\"\n",
        "sixth_import = fifth_import.drop(columns=[\"Data_Value_Type\", \"SubMeasureID\",\"TopicId\",\"GeoLocation\" ]) #I dropped these columns\n",
        "sixth_import[\"Response\"].unique() #I looked at the response type in this dataset\n",
        "seventh_import = sixth_import.dropna().reset_index(drop=True) #to drop rows with misisng values\n",
        "seventh_import.groupby(\"Response\")[\"Gender\"].count().reset_index() #counting the Gender by responses and sorting them by years in ascending order\n",
        "eight_import = seventh_import.sort_values(by=[\"YEAR\", \"State\"], ascending = True)\n",
        "eight_import\n",
        "\n"
      ]
    }
  ]
}