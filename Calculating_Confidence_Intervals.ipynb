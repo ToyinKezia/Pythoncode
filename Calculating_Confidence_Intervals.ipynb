{
  "nbformat": 4,
  "nbformat_minor": 0,
  "metadata": {
    "colab": {
      "provenance": [],
      "authorship_tag": "ABX9TyPzhfXNr4V4utMJAkpgsGid",
      "include_colab_link": true
    },
    "kernelspec": {
      "name": "python3",
      "display_name": "Python 3"
    },
    "language_info": {
      "name": "python"
    }
  },
  "cells": [
    {
      "cell_type": "markdown",
      "metadata": {
        "id": "view-in-github",
        "colab_type": "text"
      },
      "source": [
        "<a href=\"https://colab.research.google.com/github/ToyinKezia/myworkspeaksforitself/blob/main/Calculating_Confidence_Intervals.ipynb\" target=\"_parent\"><img src=\"https://colab.research.google.com/assets/colab-badge.svg\" alt=\"Open In Colab\"/></a>"
      ]
    },
    {
      "cell_type": "code",
      "execution_count": 1,
      "metadata": {
        "id": "wA8IWWmiBIW-"
      },
      "outputs": [],
      "source": [
        "import numpy as np\n",
        "from scipy import stats\n",
        "import matplotlib.pyplot as plt\n",
        "classscore = np.random.normal(50,10,60).round() #mean is 50, std.dev is 10, while 50 is the size of the sample\n",
        "#plot histogram"
      ]
    },
    {
      "cell_type": "code",
      "source": [
        "zscore = (68-classscore.mean()) / classscore.std()\n",
        "zscore"
      ],
      "metadata": {
        "colab": {
          "base_uri": "https://localhost:8080/"
        },
        "id": "TrjXQtE6BK3S",
        "outputId": "9bdc5c7e-ef64-4cf7-9031-540712a5e0e1"
      },
      "execution_count": 3,
      "outputs": [
        {
          "output_type": "execute_result",
          "data": {
            "text/plain": [
              "2.476586422608378"
            ]
          },
          "metadata": {},
          "execution_count": 3
        }
      ]
    },
    {
      "cell_type": "code",
      "source": [
        "pvalue = 1- stats.norm.cdf(zscore)\n",
        "pvalue"
      ],
      "metadata": {
        "colab": {
          "base_uri": "https://localhost:8080/"
        },
        "id": "OBmMfUVyD9WV",
        "outputId": "342849ea-db7c-4fc9-eeaa-f8757fdcab17"
      },
      "execution_count": 5,
      "outputs": [
        {
          "output_type": "execute_result",
          "data": {
            "text/plain": [
              "0.00663227536261668"
            ]
          },
          "metadata": {},
          "execution_count": 5
        }
      ]
    },
    {
      "cell_type": "code",
      "source": [
        "height_data = np.array([500, 180, 300, 400, 500, 250, 200])\n",
        "plt_hist = plt.hist(height_data, 30, density = True)\n",
        "height_data.mean()\n",
        "se = stats.sem(height_data)\n",
        "se"
      ],
      "metadata": {
        "colab": {
          "base_uri": "https://localhost:8080/",
          "height": 282
        },
        "id": "3d8HgGUfOoFn",
        "outputId": "3faae9b7-a32f-42e0-b2f4-d26e13ce6751"
      },
      "execution_count": 10,
      "outputs": [
        {
          "output_type": "execute_result",
          "data": {
            "text/plain": [
              "51.02353731900815"
            ]
          },
          "metadata": {},
          "execution_count": 10
        },
        {
          "output_type": "display_data",
          "data": {
            "text/plain": [
              "<Figure size 432x288 with 1 Axes>"
            ],
            "image/png": "[encoded data removed]"
          },
          "metadata": {
            "needs_background": "light"
          }
        }
      ]
    },
    {
      "cell_type": "code",
      "source": [
        "average_height=[]\n",
        "for i in range(30):\n",
        "  sample50=np.random.normal(183,10,50).round()\n",
        "  average_height.append(sample50.mean())\n"
      ],
      "metadata": {
        "id": "0n41z4TBRvul"
      },
      "execution_count": 15,
      "outputs": []
    },
    {
      "cell_type": "code",
      "source": [
        "plt_hist = plt.hist(average_height, 20, density=True)\n",
        "plt.show()"
      ],
      "metadata": {
        "colab": {
          "base_uri": "https://localhost:8080/",
          "height": 265
        },
        "id": "xv9MxGOWSjP4",
        "outputId": "acd5e01c-ecc8-46d9-8a8e-5973a4f56415"
      },
      "execution_count": 16,
      "outputs": [
        {
          "output_type": "display_data",
          "data": {
            "text/plain": [
              "<Figure size 432x288 with 1 Axes>"
            ],
            "image/png": "[encoded data removed]"
          },
          "metadata": {
            "needs_background": "light"
          }
        }
      ]
    },
    {
      "cell_type": "code",
      "source": [
        "\n",
        "average_height=[]\n",
        "for i in range(30):\n",
        "  sample1000 = np.random.normal(183,10,1000).round()\n",
        "  average_height.append(sample1000.mean())"
      ],
      "metadata": {
        "id": "02upTb0JTaQs"
      },
      "execution_count": 19,
      "outputs": []
    },
    {
      "cell_type": "code",
      "source": [
        "plt.hist(average_height, 30, density = True)\n",
        "plt.show()"
      ],
      "metadata": {
        "colab": {
          "base_uri": "https://localhost:8080/",
          "height": 265
        },
        "id": "ZLow67u_T_Us",
        "outputId": "343e0a19-185b-4590-a118-f66ab4298dea"
      },
      "execution_count": 20,
      "outputs": [
        {
          "output_type": "display_data",
          "data": {
            "text/plain": [
              "<Figure size 432x288 with 1 Axes>"
            ],
            "image/png": "[encoded data removed]"
          },
          "metadata": {
            "needs_background": "light"
          }
        }
      ]
    }
  ]
}