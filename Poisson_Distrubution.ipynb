{
  "nbformat": 4,
  "nbformat_minor": 0,
  "metadata": {
    "colab": {
      "provenance": [],
      "authorship_tag": "ABX9TyNXSYbLh0Yf2etWZBO0LN49",
      "include_colab_link": true
    },
    "kernelspec": {
      "name": "python3",
      "display_name": "Python 3"
    },
    "language_info": {
      "name": "python"
    }
  },
  "cells": [
    {
      "cell_type": "markdown",
      "metadata": {
        "id": "view-in-github",
        "colab_type": "text"
      },
      "source": [
        "<a href=\"https://colab.research.google.com/github/ToyinKezia/myworkspeaksforitself/blob/main/Poisson_Distrubution.ipynb\" target=\"_parent\"><img src=\"https://colab.research.google.com/assets/colab-badge.svg\" alt=\"Open In Colab\"/></a>"
      ]
    },
    {
      "cell_type": "code",
      "execution_count": 8,
      "metadata": {
        "colab": {
          "base_uri": "https://localhost:8080/",
          "height": 265
        },
        "id": "EhEoaavKmLKw",
        "outputId": "01f19e80-b992-48d2-bb7b-55f474ad42b7"
      },
      "outputs": [
        {
          "output_type": "display_data",
          "data": {
            "text/plain": [
              "<Figure size 432x288 with 1 Axes>"
            ],
            "image/png": "[encoded data removed]"
          },
          "metadata": {
            "needs_background": "light"
          }
        }
      ],
      "source": [
        "from scipy.stats import poisson\n",
        "import numpy as np\n",
        "import matplotlib.pyplot as plt\n",
        "rv = poisson(20)        #the number of boats passing through a river is 20 in an hour\n",
        "x = np.arange(0, 50) #arranging x values to plot the graph against\n",
        "pmf = rv.pmf(x) #calculates the pmf for the arrays of x values\n",
        "#plots the pmf bar graph\n",
        "plt.bar(x,pmf)\n",
        "plt.xlabel=('x')\n",
        "plt.ylabel('P(X=x)')\n",
        "plt.title = 'Mean Distrubution at 20'\n",
        "plt.show()\n",
        "#The result shows that the probability of the pmf taking a 20 values is 0.08% \n",
        "\n",
        "\n"
      ]
    },
    {
      "cell_type": "code",
      "source": [
        "from scipy.stats import poisson\n",
        "rv = poisson(25) #lets assume that 25 farmers buy into the new irrigation system idea\n",
        "result = rv.pmf(40) #what is the probability that 50 farmers would buy into the new irrigation system idea\n",
        "result"
      ],
      "metadata": {
        "colab": {
          "base_uri": "https://localhost:8080/"
        },
        "id": "FYOv7vhryznJ",
        "outputId": "1ee0b17b-ae66-4100-a7e8-d5756efcdb69"
      },
      "execution_count": 17,
      "outputs": [
        {
          "output_type": "execute_result",
          "data": {
            "text/plain": [
              "0.0014079694484448926"
            ]
          },
          "metadata": {},
          "execution_count": 17
        }
      ]
    }
  ]
}