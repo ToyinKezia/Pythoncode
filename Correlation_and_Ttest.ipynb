{
  "nbformat": 4,
  "nbformat_minor": 0,
  "metadata": {
    "colab": {
      "provenance": [],
      "authorship_tag": "ABX9TyORitxH6djFdXvEfmeiZIGT",
      "include_colab_link": true
    },
    "kernelspec": {
      "name": "python3",
      "display_name": "Python 3"
    },
    "language_info": {
      "name": "python"
    }
  },
  "cells": [
    {
      "cell_type": "markdown",
      "metadata": {
        "id": "view-in-github",
        "colab_type": "text"
      },
      "source": [
        "<a href=\"https://colab.research.google.com/github/ToyinKezia/myworkspeaksforitself/blob/main/Correlation_and_Ttest.ipynb\" target=\"_parent\"><img src=\"https://colab.research.google.com/assets/colab-badge.svg\" alt=\"Open In Colab\"/></a>"
      ]
    },
    {
      "cell_type": "code",
      "execution_count": 2,
      "metadata": {
        "id": "i5Lf-htJtS6q"
      },
      "outputs": [],
      "source": [
        "import numpy as np\n",
        "from scipy import stats\n",
        "class1_score = np.array([40,50,30,40,60,70,80,35,45,55,65,32])\n",
        "class2_score = np.array ([43,50,32,45,60,46,55,35,45,65,32,55])"
      ]
    },
    {
      "cell_type": "code",
      "source": [
        "stats.ttest_ind(class1_score, class2_score) #calculates the ttests for the two values with an assumption that the values are not correlated, the first result in the parenthesis is the tvalue, whie the second is the pvalue"
      ],
      "metadata": {
        "colab": {
          "base_uri": "https://localhost:8080/"
        },
        "id": "5swgu0yTt9-9",
        "outputId": "1dbec34c-8c33-43ff-bd3b-91a45df55586"
      },
      "execution_count": 3,
      "outputs": [
        {
          "output_type": "execute_result",
          "data": {
            "text/plain": [
              "Ttest_indResult(statistic=0.585107057790051, pvalue=0.5644294285299758)"
            ]
          },
          "metadata": {},
          "execution_count": 3
        }
      ]
    },
    {
      "cell_type": "code",
      "source": [
        "stats.pearsonr(class1_score,class2_score) #we calculate the correlation between the two value. we can see that the pvalue accepts the null hypothesis that they are not related"
      ],
      "metadata": {
        "colab": {
          "base_uri": "https://localhost:8080/"
        },
        "id": "2NwuopZ8vIv_",
        "outputId": "80146702-6ae5-461e-c729-76fcfb2e6044"
      },
      "execution_count": 4,
      "outputs": [
        {
          "output_type": "execute_result",
          "data": {
            "text/plain": [
              "PearsonRResult(statistic=0.3307765386017203, pvalue=0.29363480200063896)"
            ]
          },
          "metadata": {},
          "execution_count": 4
        }
      ]
    },
    {
      "cell_type": "code",
      "source": [],
      "metadata": {
        "id": "YxYsMYB0vrFn"
      },
      "execution_count": null,
      "outputs": []
    }
  ]
}